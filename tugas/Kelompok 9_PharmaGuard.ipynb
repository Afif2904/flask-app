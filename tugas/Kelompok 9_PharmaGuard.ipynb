{
 "cells": [
  {
   "cell_type": "code",
   "execution_count": null,
   "id": "0f8abca9-d4cc-4057-b758-d356b3e210d1",
   "metadata": {},
   "outputs": [],
   "source": [
    "import pandas as pd"
   ]
  },
  {
   "cell_type": "code",
   "execution_count": null,
   "id": "1d1493ef-85ae-4e07-ae2e-100459ca301a",
   "metadata": {},
   "outputs": [],
   "source": [
    "df = pd.read_csv(\"PharmaGuard.csv\")"
   ]
  },
  {
   "cell_type": "code",
   "execution_count": null,
   "id": "0d58c46b-62bd-4a21-a72d-f19a5ddb3599",
   "metadata": {},
   "outputs": [],
   "source": [
    "df.head()"
   ]
  },
  {
   "cell_type": "code",
   "execution_count": null,
   "id": "5692dd39-be70-467d-b160-9655773325df",
   "metadata": {},
   "outputs": [],
   "source": [
    "nama_obat = \"Hercules X\"\n",
    "\n",
    "hasil = df[df[\"Nama Produk\"].str.lower() == nama_obat.lower()]\n",
    "\n",
    "if not hasil.empty:\n",
    "    print(\"Hasil Pencarian:\")\n",
    "    print(hasil)\n",
    "else:\n",
    "    print(\"Obat Tradisional Tidak Memiliki Kandungan Bahan Kimia Obat.\")"
   ]
  },
  {
   "cell_type": "code",
   "execution_count": null,
   "id": "7839d8ec-3c7f-429d-a91b-c4e5e2d6c1ce",
   "metadata": {},
   "outputs": [],
   "source": [
    "nama_obat = \"Tolak Angin\"\n",
    "\n",
    "hasil = df[df[\"Nama Produk\"].str.lower() == nama_obat.lower()]\n",
    "\n",
    "if not hasil.empty:\n",
    "    print(\"Hasil Pencarian:\")\n",
    "    print(hasil)\n",
    "else:\n",
    "    print(\"Obat Tradisional Tidak Memiliki Kandungan Bahan Kimia Obat.\")"
   ]
  },
  {
   "cell_type": "code",
   "execution_count": null,
   "id": "0167a78b-d0ab-4ad9-aa73-70cd7bd3828e",
   "metadata": {},
   "outputs": [],
   "source": [
    "nama_obat = \"Daun Madu\"\n",
    "\n",
    "hasil = df[df[\"Nama Produk\"].str.lower() == nama_obat.lower()]\n",
    "\n",
    "if not hasil.empty:\n",
    "    print(\"Hasil Pencarian:\")\n",
    "    print(hasil)\n",
    "else:\n",
    "    print(\"Obat Tradisional Tidak Memiliki Kandungan Bahan Kimia Obat.\")"
   ]
  },
  {
   "cell_type": "code",
   "execution_count": null,
   "id": "55ab5106-313f-48b9-adcb-9a1793c7bc4a",
   "metadata": {},
   "outputs": [],
   "source": [
    "nama_obat = \"Antangin\"\n",
    "\n",
    "hasil = df[df[\"Nama Produk\"].str.lower() == nama_obat.lower()]\n",
    "\n",
    "if not hasil.empty:\n",
    "    print(\"Hasil Pencarian:\")\n",
    "    print(hasil)\n",
    "else:\n",
    "    print(\"Obat Tradisional Tidak Memiliki Kandungan Bahan Kimia Obat.\")"
   ]
  },
  {
   "cell_type": "code",
   "execution_count": null,
   "id": "765df8a9-16d5-475b-8aaa-459fe56c177a",
   "metadata": {},
   "outputs": [],
   "source": [
    "nama_obat = \"Sari Binahong\"\n",
    "\n",
    "hasil = df[df[\"Nama Produk\"].str.lower() == nama_obat.lower()]\n",
    "\n",
    "if not hasil.empty:\n",
    "    print(\"Hasil Pencarian:\")\n",
    "    print(hasil)\n",
    "else:\n",
    "    print(\"Obat Tradisional Tidak Memiliki Kandungan Bahan Kimia Obat.\")"
   ]
  },
  {
   "cell_type": "code",
   "execution_count": null,
   "id": "664694cd-57a5-4188-a90e-72c940b094ed",
   "metadata": {},
   "outputs": [],
   "source": [
    "nama_obat = \"Bodrex Herbal\"\n",
    "\n",
    "hasil = df[df[\"Nama Produk\"].str.lower() == nama_obat.lower()]\n",
    "\n",
    "if not hasil.empty:\n",
    "    print(\"Hasil Pencarian:\")\n",
    "    print(hasil)\n",
    "else:\n",
    "    print(\"Obat Tradisional Tidak Memiliki Kandungan Bahan Kimia Obat.\")"
   ]
  },
  {
   "cell_type": "code",
   "execution_count": null,
   "id": "e26a1728-7ad7-448c-b68d-7151af26d173",
   "metadata": {},
   "outputs": [],
   "source": [
    "nama_obat = \"Beauslim\"\n",
    "\n",
    "hasil = df[df[\"Nama Produk\"].str.lower() == nama_obat.lower()]\n",
    "\n",
    "if not hasil.empty:\n",
    "    print(\"Hasil Pencarian:\")\n",
    "    print(hasil)\n",
    "else:\n",
    "    print(\"Obat Tradisional Tidak Memiliki Kandungan Bahan Kimia Obat.\")"
   ]
  },
  {
   "cell_type": "code",
   "execution_count": null,
   "id": "bb0d7428-6234-4d13-b437-c6af9e6c981d",
   "metadata": {},
   "outputs": [],
   "source": [
    "nama_obat = \"Jamu Jago\"\n",
    "\n",
    "hasil = df[df[\"Nama Produk\"].str.lower() == nama_obat.lower()]\n",
    "\n",
    "if not hasil.empty:\n",
    "    print(\"Hasil Pencarian:\")\n",
    "    print(hasil)\n",
    "else:\n",
    "    print(\"Obat Tradisional Tidak Memiliki Kandungan Bahan Kimia Obat.\")"
   ]
  },
  {
   "cell_type": "code",
   "execution_count": null,
   "id": "88678d14-4e07-4a8e-8f98-3585b93f00c1",
   "metadata": {},
   "outputs": [],
   "source": [
    "nama_obat = \"Urat Naga\"\n",
    "\n",
    "hasil = df[df[\"Nama Produk\"].str.lower() == nama_obat.lower()]\n",
    "\n",
    "if not hasil.empty:\n",
    "    print(\"Hasil Pencarian:\")\n",
    "    print(hasil)\n",
    "else:\n",
    "    print(\"Obat Tradisional Tidak Memiliki Kandungan Bahan Kimia Obat.\")"
   ]
  },
  {
   "cell_type": "code",
   "execution_count": null,
   "id": "0ca4cc02-a725-4175-a7ee-419602d9126c",
   "metadata": {},
   "outputs": [],
   "source": [
    "nama_obat = \"Herbadrink\"\n",
    "\n",
    "hasil = df[df[\"Nama Produk\"].str.lower() == nama_obat.lower()]\n",
    "\n",
    "if not hasil.empty:\n",
    "    print(\"Hasil Pencarian:\")\n",
    "    print(hasil)\n",
    "else:\n",
    "    print(\"Obat Tradisional Tidak Memiliki Kandungan Bahan Kimia Obat.\")"
   ]
  },
  {
   "cell_type": "code",
   "execution_count": null,
   "id": "e0924d39-f10a-42ed-90b9-347fb76efb26",
   "metadata": {},
   "outputs": [],
   "source": [
    "nama_obat = \"Singa Barong\"\n",
    "\n",
    "hasil = df[df[\"Nama Produk\"].str.lower() == nama_obat.lower()]\n",
    "\n",
    "if not hasil.empty:\n",
    "    print(\"Hasil Pencarian:\")\n",
    "    print(hasil)\n",
    "else:\n",
    "    print(\"Obat Tradisional Tidak Memiliki Kandungan Bahan Kimia Obat.\")"
   ]
  },
  {
   "cell_type": "code",
   "execution_count": null,
   "id": "0183c3ec-ff5e-4bc4-a092-ee7d4e4ecc99",
   "metadata": {},
   "outputs": [],
   "source": [
    "nama_obat = \"Sidomuncul Sari Kunyit\"\n",
    "\n",
    "hasil = df[df[\"Nama Produk\"].str.lower() == nama_obat.lower()]\n",
    "\n",
    "if not hasil.empty:\n",
    "    print(\"Hasil Pencarian:\")\n",
    "    print(hasil)\n",
    "else:\n",
    "    print(\"Obat Tradisional Tidak Memiliki Kandungan Bahan Kimia Obat.\")"
   ]
  },
  {
   "cell_type": "code",
   "execution_count": null,
   "id": "7203db9d-4ea9-400a-a05a-b946a9ff728a",
   "metadata": {},
   "outputs": [],
   "source": [
    "nama_obat = \"Jhi On\"\n",
    "\n",
    "hasil = df[df[\"Nama Produk\"].str.lower() == nama_obat.lower()]\n",
    "\n",
    "if not hasil.empty:\n",
    "    print(\"Hasil Pencarian:\")\n",
    "    print(hasil)\n",
    "else:\n",
    "    print(\"Obat Tradisional Tidak Memiliki Kandungan Bahan Kimia Obat.\")"
   ]
  },
  {
   "cell_type": "code",
   "execution_count": null,
   "id": "57de252e-3ce3-43ef-8aed-009d928bedb5",
   "metadata": {},
   "outputs": [],
   "source": [
    "nama_obat = \"Nyonya Meneer\"\n",
    "\n",
    "hasil = df[df[\"Nama Produk\"].str.lower() == nama_obat.lower()]\n",
    "\n",
    "if not hasil.empty:\n",
    "    print(\"Hasil Pencarian:\")\n",
    "    print(hasil)\n",
    "else:\n",
    "    print(\"Obat Tradisional Tidak Memiliki Kandungan Bahan Kimia Obat.\")"
   ]
  },
  {
   "cell_type": "code",
   "execution_count": null,
   "id": "b45ea456-57a6-4ca4-a690-773a5d386f56",
   "metadata": {},
   "outputs": [],
   "source": [
    "nama_obat = \"Urat Madu Extra Gingseng\"\n",
    "\n",
    "hasil = df[df[\"Nama Produk\"].str.lower() == nama_obat.lower()]\n",
    "\n",
    "if not hasil.empty:\n",
    "    print(\"Hasil Pencarian:\")\n",
    "    print(hasil)\n",
    "else:\n",
    "    print(\"Obat Tradisional Tidak Memiliki Kandungan Bahan Kimia Obat.\")"
   ]
  },
  {
   "cell_type": "code",
   "execution_count": null,
   "id": "08666d5c-7668-4f45-bac1-4225f6057ba4",
   "metadata": {},
   "outputs": [],
   "source": [
    "nama_obat = \"Mustika Ratu\"\n",
    "\n",
    "hasil = df[df[\"Nama Produk\"].str.lower() == nama_obat.lower()]\n",
    "\n",
    "if not hasil.empty:\n",
    "    print(\"Hasil Pencarian:\")\n",
    "    print(hasil)\n",
    "else:\n",
    "    print(\"Obat Tradisional Tidak Memiliki Kandungan Bahan Kimia Obat.\")"
   ]
  },
  {
   "cell_type": "code",
   "execution_count": null,
   "id": "75314aa2-42be-439e-acc6-cb58cbbd1c3e",
   "metadata": {},
   "outputs": [],
   "source": [
    "nama_obat = \"Racik Remari\"\n",
    "\n",
    "hasil = df[df[\"Nama Produk\"].str.lower() == nama_obat.lower()]\n",
    "\n",
    "if not hasil.empty:\n",
    "    print(\"Hasil Pencarian:\")\n",
    "    print(hasil)\n",
    "else:\n",
    "    print(\"Obat Tradisional Tidak Memiliki Kandungan Bahan Kimia Obat.\")"
   ]
  },
  {
   "cell_type": "code",
   "execution_count": null,
   "id": "536c4714-716a-454b-858c-9220db8e7126",
   "metadata": {},
   "outputs": [],
   "source": []
  }
 ],
 "metadata": {
  "kernelspec": {
   "display_name": "Python 3 (ipykernel)",
   "language": "python",
   "name": "python3"
  },
  "language_info": {
   "codemirror_mode": {
    "name": "ipython",
    "version": 3
   },
   "file_extension": ".py",
   "mimetype": "text/x-python",
   "name": "python",
   "nbconvert_exporter": "python",
   "pygments_lexer": "ipython3",
   "version": "3.13.2"
  }
 },
 "nbformat": 4,
 "nbformat_minor": 5
}
